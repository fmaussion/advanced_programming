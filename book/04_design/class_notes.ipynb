{
 "cells": [
  {
   "cell_type": "markdown",
   "id": "0a44b787-7a30-4c7b-850e-cade398be361",
   "metadata": {},
   "source": [
    "# Python design patterns"
   ]
  },
  {
   "cell_type": "markdown",
   "id": "048e29c3-2b77-4c66-914d-fa30caab5b46",
   "metadata": {},
   "source": [
    "https://hackmd.io/@fmaussion/Hypk5tyD5"
   ]
  },
  {
   "cell_type": "code",
   "execution_count": null,
   "id": "8f94a150-1615-4369-9758-ae371a4a984c",
   "metadata": {},
   "outputs": [],
   "source": []
  }
 ],
 "metadata": {
  "kernelspec": {
   "display_name": "Python 3 (ipykernel)",
   "language": "python",
   "name": "python3"
  },
  "language_info": {
   "codemirror_mode": {
    "name": "ipython",
    "version": 3
   },
   "file_extension": ".py",
   "mimetype": "text/x-python",
   "name": "python",
   "nbconvert_exporter": "python",
   "pygments_lexer": "ipython3",
   "version": "3.8.5"
  }
 },
 "nbformat": 4,
 "nbformat_minor": 5
}
