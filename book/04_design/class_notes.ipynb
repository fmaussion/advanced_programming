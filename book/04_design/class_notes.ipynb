{
 "cells": [
  {
   "cell_type": "markdown",
   "id": "0a44b787-7a30-4c7b-850e-cade398be361",
   "metadata": {},
   "source": [
    "# Python \"design patterns\""
   ]
  },
  {
   "cell_type": "markdown",
   "id": "048e29c3-2b77-4c66-914d-fa30caab5b46",
   "metadata": {},
   "source": [
    "https://hackmd.io/@fmaussion/Hypk5tyD5"
   ]
  },
  {
   "cell_type": "markdown",
   "id": "21003ec7-85b8-4ad5-b5d2-27986d27110f",
   "metadata": {},
   "source": [
    "Useful ways to structure your code\n",
    "\n",
    "Remember: Python **assignes** with '=' i.e. setting a pointer to the same location in the memory. (Unless copy is imported and used.) \n",
    "Thus...\n",
    "\n",
    "Returning Functions in Functions (aka Inner function)\n",
    "Functions with similar outputs (i.e. same output type) can make use of inner functions, that decide on cases (hidden from the user).\n",
    "The python garbage collector takes care of the unused functions and still clears up that memory space.\n",
    "\n",
    "\n",
    "## Decorators\n",
    "\n",
    "Decorators do not change the function or object but add somthing around it.\n",
    "\n",
    "It can be used to indicate what functions are used or show the timing/ make it measurable.\n",
    "\n",
    "instead of `some function = wrapper(function)` a decorater can be applied `def wrapper(): @wrapper def function():`\n",
    "\n",
    "https://realpython.com/primer-on-python-decorators\n",
    "\n",
    "Examples of decorators:\n",
    "- \n",
    "\n",
    "## Pytest decorators\n",
    "\n",
    "\n",
    "https://docs.pytest.org/en/6.2.x/parametrize.html\n",
    "\n",
    "https://docs.pytest.org/en/6.2.x/fixture.html\n",
    "\n",
    "\n",
    "## Parameter dictionary (global or as singleton)\n",
    "\n",
    "Global dictionaries to have common parameters in all scripts.\n"
   ]
  },
  {
   "cell_type": "code",
   "execution_count": null,
   "id": "039c0e4a-d37c-4a07-9295-62a6c4c9a9a3",
   "metadata": {},
   "outputs": [],
   "source": []
  }
 ],
 "metadata": {
  "kernelspec": {
   "display_name": "Python 3 (ipykernel)",
   "language": "python",
   "name": "python3"
  },
  "language_info": {
   "codemirror_mode": {
    "name": "ipython",
    "version": 3
   },
   "file_extension": ".py",
   "mimetype": "text/x-python",
   "name": "python",
   "nbconvert_exporter": "python",
   "pygments_lexer": "ipython3",
   "version": "3.8.5"
  }
 },
 "nbformat": 4,
 "nbformat_minor": 5
}
