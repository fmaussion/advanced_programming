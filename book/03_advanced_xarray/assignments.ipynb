{
 "cells": [
  {
   "cell_type": "markdown",
   "id": "0",
   "metadata": {},
   "source": [
    "# Assignments"
   ]
  },
  {
   "cell_type": "markdown",
   "id": "1",
   "metadata": {},
   "source": [
    "## Week 06"
   ]
  },
  {
   "cell_type": "markdown",
   "id": "2",
   "metadata": {},
   "source": [
    "*\"Due date\": 12.06.2023* "
   ]
  },
  {
   "cell_type": "markdown",
   "id": "3",
   "metadata": {},
   "source": [
    "### Exercise 01: xarray sel points"
   ]
  },
  {
   "cell_type": "markdown",
   "id": "4",
   "metadata": {},
   "source": [
    "Data:\n",
    "- https://cluster.klima.uni-bremen.de/~fmaussion/teaching/advpro/Copernicus_DSM_10_N46_00_E010_00_DEM.tif\n",
    "- https://cluster.klima.uni-bremen.de/~fmaussion/teaching/advpro/HEF_RGI.zip\n",
    "\n",
    "Let me open this for you:"
   ]
  },
  {
   "cell_type": "code",
   "execution_count": null,
   "id": "5",
   "metadata": {},
   "outputs": [],
   "source": [
    "import rioxarray as rioxr\n",
    "import geopandas as gpd\n",
    "import numpy as np\n",
    "import matplotlib.pyplot as plt"
   ]
  },
  {
   "cell_type": "code",
   "execution_count": null,
   "id": "6",
   "metadata": {},
   "outputs": [],
   "source": [
    "da = rioxr.open_rasterio('Copernicus_DSM_10_N46_00_E010_00_DEM.tif')"
   ]
  },
  {
   "cell_type": "code",
   "execution_count": null,
   "id": "7",
   "metadata": {},
   "outputs": [],
   "source": [
    "gdf = gpd.read_file('zip://HEF_RGI.zip!/HEF_RGI')"
   ]
  },
  {
   "cell_type": "code",
   "execution_count": null,
   "id": "8",
   "metadata": {},
   "outputs": [],
   "source": [
    "f, ax = plt.subplots();\n",
    "da.plot(ax=ax);\n",
    "gdf.plot(ax=ax, facecolor='C3', edgecolor='C3');"
   ]
  },
  {
   "cell_type": "markdown",
   "id": "9",
   "metadata": {},
   "source": [
    "Good! Now:\n",
    "- extract the lons and lats coordinates of the glacier outline (this is a geopandas + shapely question)\n",
    "- use [xarray interpolation](https://docs.xarray.dev/en/stable/user-guide/interpolation.html) to get the elevation of each vertice along the outlines\n",
    "- make a plot more or less [looking like this](https://github.com/fmaussion/advanced_programming/blob/master/book/03_advanced_xarray/xarray_interp.png).\n",
    "\n",
    "The whole exercise is 4 lines of code. It's all about reading the docs ;-)"
   ]
  },
  {
   "cell_type": "code",
   "execution_count": null,
   "id": "10",
   "metadata": {},
   "outputs": [],
   "source": [
    "# Your answer here"
   ]
  },
  {
   "cell_type": "markdown",
   "id": "11",
   "metadata": {},
   "source": [
    "### Exercise 02: medium data"
   ]
  },
  {
   "cell_type": "markdown",
   "id": "12",
   "metadata": {},
   "source": [
    "Please read the [dask + xarray documentation](https://docs.xarray.dev/en/latest/user-guide/dask.html) page first."
   ]
  },
  {
   "cell_type": "markdown",
   "id": "13",
   "metadata": {},
   "source": [
    "I have downloaded ERA5 hourly precipitation data for you. You will find the files here: https://cluster.klima.uni-bremen.de/~fmaussion/teaching/climate/dask_exps/HiRes_Hourly_Surf\n",
    "\n",
    "**Your task is to compute the daily cycle (i.e. hourly average) over the entire year 2021.** (shape: `(24, nlat, nlon)`).\n",
    "\n",
    "You can do so by various means, but as a first step I recommend to:\n",
    "- open all 12 monthly files individually in a for loop\n",
    "- use dask to chunk the files before computing the daily cycle (not strictly necessary but you can try with and without it)\n",
    "- save the output in an intermediate netcdf file\n",
    "- open the intermediate netcdf files to average them (ideally weighting by month length)\n",
    "\n",
    "**If you are adventurous,** try to do it without for loop, with `open_mfdataset`. I've tried quite a few things myself and discovered one of the main problems I was facing with `open_mfdataset`: one needs to specify the chunks *at opening* (i.e. `open_mfdataset('', chunks=...)` and not after (as I tried to do in class). I even [opened a PR](https://github.com/pydata/xarray/pull/6569) to improve the xarray docs in this respect. With this I *almost* managed to compute the daily cycle but it is still not working as efficiently as I'd like it to. Maybe it'll work better for you?\n",
    "\n",
    "**Bonus**: make a pretty gif out of it:\n",
    "\n",
    "![](example_2021.gif)"
   ]
  },
  {
   "cell_type": "code",
   "execution_count": null,
   "id": "14",
   "metadata": {},
   "outputs": [],
   "source": [
    "# Your answer here"
   ]
  },
  {
   "cell_type": "markdown",
   "id": "15",
   "metadata": {},
   "source": [
    "###  Exercise 03: xarray accessors\n",
    "\n",
    "Your task is to code an accessor that adds something to xarray (I don't mind what).\n",
    "\n",
    "If you don't know what to add, code an accessor that understands global data and plots climate maps when asked to (with `ds.myaccessor.plot()` on a single timestep array). Extending it could be to make multiple plots when there are more than one time step. As plot map background, use the typical global maps from the climate lecture.\n",
    "\n",
    "Before you start coding right away, read this doc page: https://docs.xarray.dev/en/stable/internals/extending-xarray.html\n",
    "\n",
    "While you are at it, read a little bit about the \"composition over inheritance\" principle as well (don’t overdo it - [this page](https://python-patterns.guide/) is not bad but quite advanced)."
   ]
  },
  {
   "cell_type": "code",
   "execution_count": null,
   "id": "16",
   "metadata": {},
   "outputs": [],
   "source": [
    "# Your answer here"
   ]
  }
 ],
 "metadata": {
  "kernelspec": {
   "display_name": "Python 3 (ipykernel)",
   "language": "python",
   "name": "python3"
  },
  "language_info": {
   "codemirror_mode": {
    "name": "ipython",
    "version": 3
   },
   "file_extension": ".py",
   "mimetype": "text/x-python",
   "name": "python",
   "nbconvert_exporter": "python",
   "pygments_lexer": "ipython3",
   "version": "3.10.8"
  }
 },
 "nbformat": 4,
 "nbformat_minor": 5
}
