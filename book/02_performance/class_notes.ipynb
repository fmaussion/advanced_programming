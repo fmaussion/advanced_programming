{
 "cells": [
  {
   "cell_type": "markdown",
   "id": "0a44b787-7a30-4c7b-850e-cade398be361",
   "metadata": {},
   "source": [
    "# Advanced programming: performance"
   ]
  },
  {
   "cell_type": "markdown",
   "id": "048e29c3-2b77-4c66-914d-fa30caab5b46",
   "metadata": {},
   "source": [
    "https://hackmd.io/@fmaussion/rJlfAkJm5"
   ]
  },
  {
   "cell_type": "markdown",
   "id": "454ba05c-197e-42ac-b749-af76b1347112",
   "metadata": {},
   "source": [
    "## The rules of optimization\n",
    "\n",
    "\n",
    "1. **Don't do it.**\n",
    "2. **(For experts only) Don't do it yet.**\n",
    "\n",
    "Inspired from famous internet programmer knowledge.\n",
    "\n",
    "### Rules of thumb\n",
    "\n",
    "<img src=\"https://imgs.xkcd.com/comics/is_it_worth_the_time_2x.png\" alt=\"xkcd\" width=\"400\"/>\n",
    "\n",
    "### If you really really want to do it anyway\n",
    "\n",
    "1. **Write tests**\n",
    "2. **Profile before optimizing**\n",
    "\n",
    "Writing tests is important to keep the code running and making sure that it works the same way after optimizing. At the very least, keep a copy of the non-optimized code and test your optimized code against it.\n",
    "\n",
    "Profiling helps to focus on what really matters. You might find the results of profiling very surprising!\n",
    "\n",
    "## Some optimisation stories from Fabien\n",
    "\n",
    "- vectorization instead of for-loops\n",
    "- from fortran to c (vice versa): change the order of accessing rows and columns\n",
    "- conversion between xarray/numpy arrays etc. is expensive - avoid it if you need performance\n",
    "- writing functions instead of hard-coding every single step multiple times\n",
    "- opening the same file every time in a for-loop instead of doing it once before starting the for-loop\n",
    "- think of writing your own functions for routines you are using a lot instead of potentially slow package functions (e.g. `np.average`). See examples below.\n",
    "\n",
    "## Profiling code\n",
    "\n",
    "- default: https://docs.python.org/3/library/profile.html\n",
    "- better: https://github.com/benfred/py-spy\n",
    "\n",
    "## Micro optimisation examples"
   ]
  },
  {
   "cell_type": "markdown",
   "id": "6d4e1f26-7791-4b66-bf0e-e8f1c99cbe0c",
   "metadata": {},
   "source": [
    "### Back to basics xarray -> numpy -> own functions "
   ]
  },
  {
   "cell_type": "markdown",
   "id": "83206197-a6bc-43da-92f9-30818e9f1b76",
   "metadata": {},
   "source": [
    "Because of the \"generalization overhead\" (certain numpy and xarray functions are slow because they are meant to be general and do a lot of input checks.\n",
    "\n",
    "If you know what your input looks like and have control over it, you can speed-up operations quite a bit."
   ]
  },
  {
   "cell_type": "markdown",
   "id": "5f2be34c-882c-44bd-bce0-dca508923125",
   "metadata": {},
   "source": [
    "#### xarray and pandas are slow on arithmetics "
   ]
  },
  {
   "cell_type": "code",
   "execution_count": 2,
   "id": "bcff46cc-3bd3-463b-bf71-ecfddc52e45c",
   "metadata": {},
   "outputs": [],
   "source": [
    "import xarray as xr\n",
    "import numpy as np\n",
    "\n",
    "da = xr.DataArray(np.random.uniform(240, 300))"
   ]
  },
  {
   "cell_type": "code",
   "execution_count": 3,
   "id": "70b2307d-9765-44bf-8046-70d5983612c3",
   "metadata": {},
   "outputs": [
    {
     "name": "stdout",
     "output_type": "stream",
     "text": [
      "31 µs ± 1.12 µs per loop (mean ± std. dev. of 7 runs, 10000 loops each)\n"
     ]
    }
   ],
   "source": [
    "%timeit da**2"
   ]
  },
  {
   "cell_type": "code",
   "execution_count": 4,
   "id": "4c39e1d2-fa5b-4766-abf3-ba4d500a3cd9",
   "metadata": {},
   "outputs": [
    {
     "name": "stdout",
     "output_type": "stream",
     "text": [
      "922 ns ± 9.95 ns per loop (mean ± std. dev. of 7 runs, 1000000 loops each)\n"
     ]
    }
   ],
   "source": [
    "%timeit da.data**2"
   ]
  },
  {
   "cell_type": "markdown",
   "id": "a2a4c062-7d6c-446f-a41c-446ed6c97e0a",
   "metadata": {},
   "source": [
    "*Question to class: why?*"
   ]
  },
  {
   "cell_type": "markdown",
   "id": "79e51594-ff5c-4a6b-9047-4b64b7e9fd79",
   "metadata": {},
   "source": [
    "#### numpy is also slow in certain situations"
   ]
  },
  {
   "cell_type": "code",
   "execution_count": 5,
   "id": "54176cc3-df5a-41f1-8201-d8bf6e7b5c07",
   "metadata": {},
   "outputs": [],
   "source": [
    "d = np.arange(1, 1000)\n",
    "w = d + 2"
   ]
  },
  {
   "cell_type": "code",
   "execution_count": 6,
   "id": "e76236bd-e36d-4a3b-9e50-de0417db2b65",
   "metadata": {},
   "outputs": [
    {
     "name": "stdout",
     "output_type": "stream",
     "text": [
      "20.3 µs ± 993 ns per loop (mean ± std. dev. of 7 runs, 10000 loops each)\n"
     ]
    }
   ],
   "source": [
    "%timeit np.average(d, weights=w)"
   ]
  },
  {
   "cell_type": "code",
   "execution_count": 7,
   "id": "eadda376-06a2-4f62-88fa-35dfde74a2db",
   "metadata": {},
   "outputs": [],
   "source": [
    "def my_avg(d, wgt):\n",
    "    return np.multiply(d, wgt).sum() / wgt.sum()"
   ]
  },
  {
   "cell_type": "code",
   "execution_count": 8,
   "id": "31351cd3-ee16-42ef-8d1e-84c880b207df",
   "metadata": {},
   "outputs": [
    {
     "name": "stdout",
     "output_type": "stream",
     "text": [
      "5.35 µs ± 61.9 ns per loop (mean ± std. dev. of 7 runs, 100000 loops each)\n"
     ]
    }
   ],
   "source": [
    "%timeit my_avg(d, w)"
   ]
  },
  {
   "cell_type": "markdown",
   "id": "5a25e4ba-e54a-4b07-b7c8-12dc3732ac3d",
   "metadata": {},
   "source": [
    "*Question to class: why?*"
   ]
  },
  {
   "cell_type": "markdown",
   "id": "27f40b00-f28f-48c9-9b9f-6800e7f281fe",
   "metadata": {},
   "source": [
    "See also (similar story): https://github.com/numpy/numpy/issues/14281"
   ]
  },
  {
   "cell_type": "markdown",
   "id": "64a8e7cb-fa7d-4bdb-ab52-4084f2110210",
   "metadata": {},
   "source": [
    "**As for ALL cases of optimisation: please be aware of the risks! Make a careful gain / costs analysis.**"
   ]
  },
  {
   "cell_type": "markdown",
   "id": "bef29f32-490f-4f85-b3d4-89fddca09292",
   "metadata": {},
   "source": [
    "#### Array creation is costly "
   ]
  },
  {
   "cell_type": "code",
   "execution_count": 44,
   "id": "8efdae04-da81-4408-b571-7c6d606f9066",
   "metadata": {},
   "outputs": [],
   "source": [
    "dx = 100\n",
    "surface_h = np.linspace(3000, 1000, nx)\n",
    "\n",
    "def my_grad(surface_h, dx):\n",
    "    gradient = np.zeros(surface_h.shape)\n",
    "    gradient[1:nx-1] = (surface_h[2:] - surface_h[:nx-2])/(2*dx)\n",
    "    gradient[[-1, 0]] = 0\n",
    "    return gradient\n",
    "\n",
    "def grad_np(surface_h, dx):\n",
    "    gradient = np.gradient(surface_h, dx)\n",
    "    gradient[[-1, 0]] = 0\n",
    "    return gradient"
   ]
  },
  {
   "cell_type": "code",
   "execution_count": 45,
   "id": "901c9ba9-5e1a-4f2c-9c7a-685ef4cc8d59",
   "metadata": {},
   "outputs": [],
   "source": [
    "np.testing.assert_allclose(grad_np(surface_h, dx), my_grad(surface_h, dx))"
   ]
  },
  {
   "cell_type": "code",
   "execution_count": 46,
   "id": "32740523-56de-4097-b17f-d7843e5c2b9d",
   "metadata": {},
   "outputs": [
    {
     "name": "stdout",
     "output_type": "stream",
     "text": [
      "21 µs ± 2.06 µs per loop (mean ± std. dev. of 7 runs, 10000 loops each)\n"
     ]
    }
   ],
   "source": [
    "%timeit grad_np(surface_h, dx)"
   ]
  },
  {
   "cell_type": "code",
   "execution_count": 47,
   "id": "64337e6f-ffa2-456c-b4d6-8bf4ade3ac18",
   "metadata": {},
   "outputs": [
    {
     "name": "stdout",
     "output_type": "stream",
     "text": [
      "5.51 µs ± 53.5 ns per loop (mean ± std. dev. of 7 runs, 100000 loops each)\n"
     ]
    }
   ],
   "source": [
    "%timeit my_grad(surface_h, dx)"
   ]
  },
  {
   "cell_type": "markdown",
   "id": "98eb06d9-1bb8-4fa6-abd3-037134b83591",
   "metadata": {},
   "source": [
    "#### Vectorization is awesome"
   ]
  },
  {
   "cell_type": "markdown",
   "id": "02b0fe5b-1c15-4321-8176-de2ec7f9b28c",
   "metadata": {},
   "source": [
    "Example salem MetPy"
   ]
  },
  {
   "cell_type": "code",
   "execution_count": null,
   "id": "7a7aad53-18c9-49c6-94b6-84724f74ffdf",
   "metadata": {},
   "outputs": [],
   "source": []
  }
 ],
 "metadata": {
  "kernelspec": {
   "display_name": "Python 3 (ipykernel)",
   "language": "python",
   "name": "python3"
  },
  "language_info": {
   "codemirror_mode": {
    "name": "ipython",
    "version": 3
   },
   "file_extension": ".py",
   "mimetype": "text/x-python",
   "name": "python",
   "nbconvert_exporter": "python",
   "pygments_lexer": "ipython3",
   "version": "3.8.5"
  }
 },
 "nbformat": 4,
 "nbformat_minor": 5
}
