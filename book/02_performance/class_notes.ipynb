{
 "cells": [
  {
   "cell_type": "markdown",
   "id": "0a44b787-7a30-4c7b-850e-cade398be361",
   "metadata": {},
   "source": [
    "# Advanced programming: performance"
   ]
  },
  {
   "cell_type": "markdown",
   "id": "454ba05c-197e-42ac-b749-af76b1347112",
   "metadata": {},
   "source": [
    "## The rules of optimization\n",
    "\n",
    "\n",
    "1. **Don't do it.**\n",
    "2. **(For experts only) Don't do it yet.**\n",
    "\n",
    "Inspired from famous internet programmer knowledge.\n",
    "\n",
    "### Rules of thumb\n",
    "\n",
    "<img src=\"https://imgs.xkcd.com/comics/is_it_worth_the_time_2x.png\" alt=\"xkcd\" width=\"400\"/>\n",
    "\n",
    "### If you really really want to do it anyway\n",
    "\n",
    "1. **Write tests**\n",
    "2. **Profile before optimizing**\n",
    "\n",
    "Writing tests is important to keep the code running and making sure that it works the same way after optimizing. At the very least, keep a copy of the non-optimized code and test your optimized code against it.\n",
    "\n",
    "Profiling helps to focus on what really matters. You might find the results of profiling very surprising!\n",
    "\n",
    "## Some optimisation stories from the class\n",
    "\n",
    "- vectorization instead of for-loops\n",
    "- conversion between xarray/numpy arrays etc. is expensive - avoid it if you need performance\n",
    "- writing functions instead of hard-coding every single step multiple times\n",
    "- opening the same file every time in a for-loop instead of doing it once before starting the for-loop\n",
    "- think of writing your own functions for routines you are using a lot instead of potentially slow package functions (e.g. `np.average`). See examples below.\n",
    "\n",
    "## Profiling code\n",
    "\n",
    "- default: https://docs.python.org/3/library/profile.html\n",
    "- with graphics: https://github.com/benfred/py-spy\n",
    "\n",
    "## Optimisation examples"
   ]
  },
  {
   "cell_type": "markdown",
   "id": "388406b7-dddd-42c0-92d3-907a879229d6",
   "metadata": {},
   "source": [
    "```{important}\n",
    "\n",
    "Always follow the further rules of scientific code optimisation in order:\n",
    "\n",
    "1. Don't do it.\n",
    "2. Don't do it (yet)\n",
    "3. Test before doing it\n",
    "4. Profile before doing it\n",
    "5. Check vectorization (removing `for` loops)\n",
    "6. Remove pandas / xarray overlay\n",
    "7. Optimize numpy code\n",
    "8. Check numba or PyPy \n",
    "8. Use multiprocessing\n",
    "```"
   ]
  },
  {
   "cell_type": "markdown",
   "id": "d41bfaba-cefc-4050-b9a6-baa637d8f064",
   "metadata": {},
   "source": [
    "### Vectorization is awesome"
   ]
  },
  {
   "cell_type": "markdown",
   "id": "dbdb10c7-3387-4fd4-a7d7-bcb48fe0b92f",
   "metadata": {},
   "source": [
    "This is ALWAYS what you should check first: can you replace a for loop with numpy only arithmetics?"
   ]
  },
  {
   "cell_type": "code",
   "execution_count": 82,
   "id": "a050d0b2-6801-4d68-9b74-caddf720831b",
   "metadata": {},
   "outputs": [
    {
     "data": {
      "text/plain": [
       "array([ 0.,  2.,  4.,  6.,  8., 10., 12., 14., 16., 18., 20.,  0.])"
      ]
     },
     "execution_count": 82,
     "metadata": {},
     "output_type": "execute_result"
    }
   ],
   "source": [
    "import numpy as np\n",
    "\n",
    "# Derivation naive\n",
    "a = np.arange(12)**2\n",
    "deriv = np.zeros(len(a))\n",
    "for i in range(len(a)):\n",
    "    if i == 0 or i == len(a) - 1:\n",
    "        continue\n",
    "    deriv[i] = (a[i+1] - a[i-1]) / 2\n",
    "deriv"
   ]
  },
  {
   "cell_type": "code",
   "execution_count": 85,
   "id": "ea16f945-8e78-459f-be91-783d70d62885",
   "metadata": {},
   "outputs": [
    {
     "data": {
      "text/plain": [
       "array([ 0.,  2.,  4.,  6.,  8., 10., 12., 14., 16., 18., 20.,  0.])"
      ]
     },
     "execution_count": 85,
     "metadata": {},
     "output_type": "execute_result"
    }
   ],
   "source": [
    "# Derivation vectorized\n",
    "a = np.arange(12)**2\n",
    "deriv = np.zeros(len(a))\n",
    "deriv[1:-1] = (a[2:] - a[:-2]) / 2\n",
    "deriv"
   ]
  },
  {
   "cell_type": "markdown",
   "id": "c9d2ac90-f119-4939-b9ca-a0a874c574d2",
   "metadata": {},
   "source": [
    "Concrete example: salem and MetPy's `interp_1d` function (useful for interpolating model levels):\n",
    "- [salem](https://github.com/fmaussion/salem/blob/0ae5885e4f466fc333a14544df851501f11102fd/salem/wrftools.py#L496-L551) uses naive interpolation but relies on multiprocessing to get speed-up\n",
    "- [MetPy](https://github.com/Unidata/MetPy/blob/8b01e1fd22304ffcd5e933cfa901a229ab8fba3f/src/metpy/interpolate/one_dimension.py#L53-L173) uses clever vectorization and is faster."
   ]
  },
  {
   "cell_type": "markdown",
   "id": "6d4e1f26-7791-4b66-bf0e-e8f1c99cbe0c",
   "metadata": {},
   "source": [
    "### Back to basics: xarray -> numpy -> own functions "
   ]
  },
  {
   "cell_type": "markdown",
   "id": "83206197-a6bc-43da-92f9-30818e9f1b76",
   "metadata": {},
   "source": [
    "Because of the \"generalization overhead\" (certain numpy and xarray functions are slow because they are meant to be general and do a lot of input checks.\n",
    "\n",
    "If you know what your input looks like and have control over it, you can speed-up operations quite a bit."
   ]
  },
  {
   "cell_type": "markdown",
   "id": "5f2be34c-882c-44bd-bce0-dca508923125",
   "metadata": {},
   "source": [
    "#### xarray and pandas are slow on arithmetics "
   ]
  },
  {
   "cell_type": "code",
   "execution_count": 86,
   "id": "991ef921-36d0-4bba-965f-093cdad9d133",
   "metadata": {},
   "outputs": [],
   "source": [
    "import pandas as pd"
   ]
  },
  {
   "cell_type": "code",
   "execution_count": 87,
   "id": "f9dd940d-1390-4f93-9e2b-23f9f12d9391",
   "metadata": {},
   "outputs": [],
   "source": [
    "df = pd.DataFrame()\n",
    "df['data'] = np.ones(10000)"
   ]
  },
  {
   "cell_type": "code",
   "execution_count": 92,
   "id": "22668155-430d-4e3b-afc7-186c118379b8",
   "metadata": {},
   "outputs": [
    {
     "name": "stdout",
     "output_type": "stream",
     "text": [
      "48.2 µs ± 4.77 µs per loop (mean ± std. dev. of 7 runs, 10000 loops each)\n"
     ]
    }
   ],
   "source": [
    "%timeit df**2"
   ]
  },
  {
   "cell_type": "code",
   "execution_count": 93,
   "id": "b16ae92a-e429-4368-9963-a0c95ff649a6",
   "metadata": {},
   "outputs": [
    {
     "name": "stdout",
     "output_type": "stream",
     "text": [
      "7.45 µs ± 737 ns per loop (mean ± std. dev. of 7 runs, 100000 loops each)\n"
     ]
    }
   ],
   "source": [
    "%timeit df.values**2"
   ]
  },
  {
   "cell_type": "code",
   "execution_count": 94,
   "id": "bcff46cc-3bd3-463b-bf71-ecfddc52e45c",
   "metadata": {},
   "outputs": [],
   "source": [
    "import xarray as xr\n",
    "import numpy as np\n",
    "\n",
    "da = xr.DataArray(np.random.uniform(size=(240, 300)))"
   ]
  },
  {
   "cell_type": "code",
   "execution_count": 95,
   "id": "70b2307d-9765-44bf-8046-70d5983612c3",
   "metadata": {},
   "outputs": [
    {
     "name": "stdout",
     "output_type": "stream",
     "text": [
      "50.3 µs ± 2.69 µs per loop (mean ± std. dev. of 7 runs, 10000 loops each)\n"
     ]
    }
   ],
   "source": [
    "%timeit da**2"
   ]
  },
  {
   "cell_type": "code",
   "execution_count": 96,
   "id": "4c39e1d2-fa5b-4766-abf3-ba4d500a3cd9",
   "metadata": {},
   "outputs": [
    {
     "name": "stdout",
     "output_type": "stream",
     "text": [
      "25.9 µs ± 878 ns per loop (mean ± std. dev. of 7 runs, 10000 loops each)\n"
     ]
    }
   ],
   "source": [
    "%timeit da.data**2"
   ]
  },
  {
   "cell_type": "markdown",
   "id": "a2a4c062-7d6c-446f-a41c-446ed6c97e0a",
   "metadata": {},
   "source": [
    "*Question to class: why?*"
   ]
  },
  {
   "cell_type": "markdown",
   "id": "79e51594-ff5c-4a6b-9047-4b64b7e9fd79",
   "metadata": {},
   "source": [
    "#### numpy's general functions are sometimes slower than the direct arithmetic solution"
   ]
  },
  {
   "cell_type": "code",
   "execution_count": 97,
   "id": "54176cc3-df5a-41f1-8201-d8bf6e7b5c07",
   "metadata": {},
   "outputs": [],
   "source": [
    "d = np.arange(1, 1000)\n",
    "w = d + 2"
   ]
  },
  {
   "cell_type": "code",
   "execution_count": 98,
   "id": "e76236bd-e36d-4a3b-9e50-de0417db2b65",
   "metadata": {},
   "outputs": [
    {
     "name": "stdout",
     "output_type": "stream",
     "text": [
      "17.4 µs ± 1.46 µs per loop (mean ± std. dev. of 7 runs, 10000 loops each)\n"
     ]
    }
   ],
   "source": [
    "%timeit np.average(d, weights=w)"
   ]
  },
  {
   "cell_type": "code",
   "execution_count": 99,
   "id": "eadda376-06a2-4f62-88fa-35dfde74a2db",
   "metadata": {},
   "outputs": [],
   "source": [
    "def my_avg(d, wgt):\n",
    "    return (d * wgt).sum() / wgt.sum()\n",
    "\n",
    "np.testing.assert_allclose(np.average(d, weights=w), my_avg(d, w))"
   ]
  },
  {
   "cell_type": "code",
   "execution_count": 100,
   "id": "a8502704-2993-4bbb-8822-10e59e4f0b9e",
   "metadata": {},
   "outputs": [
    {
     "name": "stdout",
     "output_type": "stream",
     "text": [
      "4.23 µs ± 316 ns per loop (mean ± std. dev. of 7 runs, 100000 loops each)\n"
     ]
    }
   ],
   "source": [
    "%timeit my_avg(d, w)"
   ]
  },
  {
   "cell_type": "markdown",
   "id": "5a25e4ba-e54a-4b07-b7c8-12dc3732ac3d",
   "metadata": {},
   "source": [
    "*Question to class: why?*"
   ]
  },
  {
   "cell_type": "markdown",
   "id": "27f40b00-f28f-48c9-9b9f-6800e7f281fe",
   "metadata": {},
   "source": [
    "See also (similar story): https://github.com/numpy/numpy/issues/14281"
   ]
  },
  {
   "cell_type": "markdown",
   "id": "64a8e7cb-fa7d-4bdb-ab52-4084f2110210",
   "metadata": {},
   "source": [
    "**As for ALL cases of optimisation: please be aware of the risks! Make a careful gain / costs analysis.**"
   ]
  },
  {
   "cell_type": "markdown",
   "id": "bef29f32-490f-4f85-b3d4-89fddca09292",
   "metadata": {},
   "source": [
    "#### Array creation is costly "
   ]
  },
  {
   "cell_type": "code",
   "execution_count": 101,
   "id": "d6339f3a-1916-499a-9727-2fe3c53f081e",
   "metadata": {},
   "outputs": [
    {
     "name": "stdout",
     "output_type": "stream",
     "text": [
      "2.2 µs ± 401 ns per loop (mean ± std. dev. of 7 runs, 100000 loops each)\n"
     ]
    }
   ],
   "source": [
    "%timeit np.ones(1000)"
   ]
  },
  {
   "cell_type": "code",
   "execution_count": 102,
   "id": "f53495b8-ec9c-4b1b-95a4-1b6e6507d67e",
   "metadata": {},
   "outputs": [
    {
     "name": "stdout",
     "output_type": "stream",
     "text": [
      "249 ns ± 16.2 ns per loop (mean ± std. dev. of 7 runs, 1000000 loops each)\n"
     ]
    }
   ],
   "source": [
    "%timeit np.empty(1000)"
   ]
  },
  {
   "cell_type": "code",
   "execution_count": 106,
   "id": "8efdae04-da81-4408-b571-7c6d606f9066",
   "metadata": {},
   "outputs": [],
   "source": [
    "dx = 100\n",
    "nx = 200\n",
    "surface_h = np.linspace(3000, 1000, nx)\n",
    "\n",
    "\n",
    "def grad_np(surface_h, dx):\n",
    "    \"\"\"Numpy computing a gradient\"\"\"\n",
    "    gradient = np.gradient(surface_h, dx)\n",
    "    gradient[[-1, 0]] = 0\n",
    "    return gradient\n",
    "\n",
    "\n",
    "def my_grad(surface_h, dx):\n",
    "    \"\"\"Same result, not using numpy's function\"\"\"\n",
    "    gradient = np.empty(surface_h.shape)\n",
    "    gradient[1:nx-1] = (surface_h[2:] - surface_h[:nx-2])/(2*dx)\n",
    "    gradient[[-1, 0]] = 0\n",
    "    return gradient\n",
    "\n",
    "\n",
    "def my_other_grad(surface_h, dx):\n",
    "    \"\"\"Same as above, but no array creation and using concatenate\"\"\"\n",
    "    internal_grad = (surface_h[2:] - surface_h[:nx-2])/(2*dx)\n",
    "    return np.concatenate([[0], internal_grad, [0]])\n",
    "\n",
    "np.testing.assert_allclose(grad_np(surface_h, dx), my_grad(surface_h, dx))\n",
    "np.testing.assert_allclose(grad_np(surface_h, dx), my_other_grad(surface_h, dx))"
   ]
  },
  {
   "cell_type": "code",
   "execution_count": 110,
   "id": "32740523-56de-4097-b17f-d7843e5c2b9d",
   "metadata": {},
   "outputs": [
    {
     "name": "stdout",
     "output_type": "stream",
     "text": [
      "17.2 µs ± 1.01 µs per loop (mean ± std. dev. of 7 runs, 100000 loops each)\n"
     ]
    }
   ],
   "source": [
    "%timeit grad_np(surface_h, dx)"
   ]
  },
  {
   "cell_type": "code",
   "execution_count": 111,
   "id": "64337e6f-ffa2-456c-b4d6-8bf4ade3ac18",
   "metadata": {},
   "outputs": [
    {
     "name": "stdout",
     "output_type": "stream",
     "text": [
      "5.11 µs ± 332 ns per loop (mean ± std. dev. of 7 runs, 100000 loops each)\n"
     ]
    }
   ],
   "source": [
    "%timeit my_grad(surface_h, dx)"
   ]
  },
  {
   "cell_type": "code",
   "execution_count": 112,
   "id": "9a4916cc-9c5b-4df9-95c6-8ba3e5e973d8",
   "metadata": {},
   "outputs": [
    {
     "name": "stdout",
     "output_type": "stream",
     "text": [
      "4.99 µs ± 148 ns per loop (mean ± std. dev. of 7 runs, 100000 loops each)\n"
     ]
    }
   ],
   "source": [
    "%timeit my_other_grad(surface_h, dx)"
   ]
  },
  {
   "cell_type": "markdown",
   "id": "366d2f74-d532-4f5f-afa3-c1e48245f0b8",
   "metadata": {},
   "source": [
    "Can we make it even faster? Put array creation outside of the function (optimization only available when a for loop is involved):"
   ]
  },
  {
   "cell_type": "code",
   "execution_count": 114,
   "id": "616f56b3-acff-4e5f-8078-9f049c965c1b",
   "metadata": {},
   "outputs": [],
   "source": [
    "gradient_container = np.zeros(surface_h.shape)\n",
    "\n",
    "def my_super_grad(surface_h, dx):\n",
    "    gradient_container[1:nx-1] = (surface_h[2:] - surface_h[:nx-2])/(2*dx)\n",
    "    return gradient_container\n",
    "\n",
    "np.testing.assert_allclose(grad_np(surface_h, dx), my_super_grad(surface_h, dx))"
   ]
  },
  {
   "cell_type": "code",
   "execution_count": 115,
   "id": "d3b0bd37-33d3-463d-92a0-65a2a31f8b9d",
   "metadata": {},
   "outputs": [
    {
     "name": "stdout",
     "output_type": "stream",
     "text": [
      "2.61 µs ± 97.2 ns per loop (mean ± std. dev. of 7 runs, 100000 loops each)\n"
     ]
    }
   ],
   "source": [
    "%timeit my_super_grad(surface_h, dx)"
   ]
  },
  {
   "cell_type": "markdown",
   "id": "91e2d2f2-1c90-40a4-bb4b-c1c58729f9b8",
   "metadata": {},
   "source": [
    "#### But numpy is already super clever "
   ]
  },
  {
   "cell_type": "markdown",
   "id": "7c762382-333c-4880-ad7d-95d744b99756",
   "metadata": {},
   "source": [
    "The following codes do the same. It is tempting to think that the second or third examples are faster (because they use in-place operations), but it turns out that they are all exactly the same speed (within errors):"
   ]
  },
  {
   "cell_type": "code",
   "execution_count": 116,
   "id": "7a7aad53-18c9-49c6-94b6-84724f74ffdf",
   "metadata": {},
   "outputs": [],
   "source": [
    "def some_calc(surface_h):\n",
    "    out = surface_h + 1\n",
    "    out = surface_h * out\n",
    "    out = out - 100\n",
    "    out = out**2\n",
    "    return out"
   ]
  },
  {
   "cell_type": "code",
   "execution_count": 117,
   "id": "89b10f9f-cf97-4a4b-99aa-4bbdfcfcbe34",
   "metadata": {},
   "outputs": [],
   "source": [
    "def not_useful_optim(surface_h):\n",
    "    return (surface_h * (surface_h + 1) - 100)**2\n",
    "\n",
    "np.testing.assert_allclose(some_calc(surface_h), not_useful_optim(surface_h))"
   ]
  },
  {
   "cell_type": "code",
   "execution_count": 118,
   "id": "493babab-ca6d-4683-b616-6ee41b90f9ee",
   "metadata": {},
   "outputs": [],
   "source": [
    "def also_not_useful_optim(surface_h):\n",
    "    out = surface_h + 1\n",
    "    out *= surface_h\n",
    "    out -= 100\n",
    "    return out**2\n",
    "\n",
    "np.testing.assert_allclose(some_calc(surface_h), also_not_useful_optim(surface_h))"
   ]
  },
  {
   "cell_type": "code",
   "execution_count": 119,
   "id": "ce0305ce-8277-4bcb-be01-fc8e5689a900",
   "metadata": {},
   "outputs": [
    {
     "name": "stdout",
     "output_type": "stream",
     "text": [
      "3.51 µs ± 213 ns per loop (mean ± std. dev. of 7 runs, 100000 loops each)\n"
     ]
    }
   ],
   "source": [
    "%timeit some_calc(surface_h)"
   ]
  },
  {
   "cell_type": "code",
   "execution_count": 120,
   "id": "1662adbd-2dee-456e-b00c-ef9d03917c8f",
   "metadata": {},
   "outputs": [
    {
     "name": "stdout",
     "output_type": "stream",
     "text": [
      "3.53 µs ± 138 ns per loop (mean ± std. dev. of 7 runs, 100000 loops each)\n"
     ]
    }
   ],
   "source": [
    "%timeit not_useful_optim(surface_h)"
   ]
  },
  {
   "cell_type": "code",
   "execution_count": 121,
   "id": "1b88a6a4-dd20-4cfa-a6b0-1c1046be05bc",
   "metadata": {},
   "outputs": [
    {
     "name": "stdout",
     "output_type": "stream",
     "text": [
      "3.61 µs ± 266 ns per loop (mean ± std. dev. of 7 runs, 100000 loops each)\n"
     ]
    }
   ],
   "source": [
    "%timeit also_not_useful_optim(surface_h)"
   ]
  },
  {
   "cell_type": "markdown",
   "id": "a1e5f565-3812-4b37-b729-28f6731798f2",
   "metadata": {},
   "source": [
    "This is because python + numpy already knows how to compile this code to be optimized, i.e. it recognizes where the culprits are and solves them."
   ]
  },
  {
   "cell_type": "markdown",
   "id": "09b402e4-c4f0-41a4-9c39-7de05fc0c81b",
   "metadata": {},
   "source": [
    "### Just in time compilation"
   ]
  },
  {
   "cell_type": "markdown",
   "id": "f9d2d5e0-55c1-4a80-bc8b-dd5dabcfdef0",
   "metadata": {},
   "source": [
    "For pure numpy code with unavoidable loops (typical for numerical models with a time stepping for example), [numba](https://numba.pydata.org) is probably the best shot you have at considerably speeding up your code. We'll make an example in class.\n",
    "\n",
    "Numba is extensively used in some applications, e.g. for [cosipy](https://github.com/cryotools/cosipy). It has some drawbacks though (we discuss in class)."
   ]
  },
  {
   "cell_type": "markdown",
   "id": "76735091-2781-4dc7-aa71-418f124a8069",
   "metadata": {},
   "source": [
    "For some applications, [pypy](https://www.pypy.org) might be worth a shot but it requires using another python interpreter."
   ]
  }
 ],
 "metadata": {
  "kernelspec": {
   "display_name": "Python 3 (ipykernel)",
   "language": "python",
   "name": "python3"
  },
  "language_info": {
   "codemirror_mode": {
    "name": "ipython",
    "version": 3
   },
   "file_extension": ".py",
   "mimetype": "text/x-python",
   "name": "python",
   "nbconvert_exporter": "python",
   "pygments_lexer": "ipython3",
   "version": "3.10.8"
  }
 },
 "nbformat": 4,
 "nbformat_minor": 5
}
