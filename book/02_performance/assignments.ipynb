{
 "cells": [
  {
   "cell_type": "markdown",
   "id": "0",
   "metadata": {},
   "source": [
    "# Assignments"
   ]
  },
  {
   "cell_type": "markdown",
   "id": "1",
   "metadata": {},
   "source": [
    "## Week 04"
   ]
  },
  {
   "cell_type": "markdown",
   "id": "2",
   "metadata": {},
   "source": [
    "*\"Due date\": 24.04.2023* "
   ]
  },
  {
   "cell_type": "markdown",
   "id": "3",
   "metadata": {},
   "source": [
    "### Exercise 01: a short programming riddle"
   ]
  },
  {
   "cell_type": "markdown",
   "id": "4",
   "metadata": {},
   "source": [
    "Let's read some output of the OGGM model ([download the data](https://github.com/fmaussion/advanced_programming/raw/master/book/data/oggm_fl_ela.nc)): "
   ]
  },
  {
   "cell_type": "code",
   "execution_count": null,
   "id": "5",
   "metadata": {},
   "outputs": [],
   "source": [
    "import xarray as xr\n",
    "with xr.open_dataset('../data/oggm_fl_ela.nc') as ds:\n",
    "    ds = ds.load()"
   ]
  },
  {
   "cell_type": "code",
   "execution_count": null,
   "id": "6",
   "metadata": {},
   "outputs": [],
   "source": [
    "ds.thickness_m.sel(time=[2004, 2019]).plot(hue='time');"
   ]
  },
  {
   "cell_type": "code",
   "execution_count": null,
   "id": "7",
   "metadata": {},
   "outputs": [],
   "source": [
    "ds.area_m2.sum(dim='dis_along_flowline').plot();"
   ]
  },
  {
   "cell_type": "code",
   "execution_count": null,
   "id": "8",
   "metadata": {},
   "outputs": [],
   "source": [
    "ds.ela_m.plot();"
   ]
  },
  {
   "cell_type": "markdown",
   "id": "9",
   "metadata": {},
   "source": [
    "These data represent a glacier simulation using the [flowline](https://docs.oggm.org/en/stable/flowlines.html) representation. Each grid point on the flowline has a width, an area, and a thickness changing with time:"
   ]
  },
  {
   "cell_type": "code",
   "execution_count": null,
   "id": "10",
   "metadata": {},
   "outputs": [],
   "source": [
    "ds.bed_h.plot(color='k');\n",
    "\n",
    "surface_h = ds.bed_h + ds.thickness_m\n",
    "surface_h.sel(time=[2004, 2019]).plot(hue='time');"
   ]
  },
  {
   "cell_type": "markdown",
   "id": "11",
   "metadata": {},
   "source": [
    "**Your task is to compute the yearly \"accumulation area ratio\" (AAR)**, which is a number between 0 and 1 representing the fraction of the glacier area which is *above* the equilibrium line altitude (ELA). You have all the data you need above: \n",
    "- `ds.ela_m` represents the equilibrium line altitude (ELA) each year (unit: m)\n",
    "- `surface_h` represents the surface elevation of the glacier grid points each year (unit: m). With this you can check which grid points are located above the ELA.\n",
    "- `ds.area_m2` represents the area of each grid point each year (same dimensions as `surface_h`, unit: m2). With this you can compute the total area of the glacier each year (plotted above) and together with the ELA and `surface_h` you can compute the AAR. \n",
    "\n",
    "The \"difficulty\" of this programming exercise is that all variables change each year. An intuitive way to solve the problem would be to use a for loop and you may want to start with this if you want to.\n",
    "\n",
    "In fact, one can do it without for loop in 4 lines of code in xarray or numpy (the code in xarray is simpler than in pure numpy). If the task using xarray was too easy for you, you can try to code without xarray."
   ]
  },
  {
   "cell_type": "markdown",
   "id": "12",
   "metadata": {},
   "source": [
    "### Exercise 02: code profiling"
   ]
  },
  {
   "cell_type": "markdown",
   "id": "13",
   "metadata": {},
   "source": [
    "[Pydemic](https://github.com/fmaussion/pydemic) is an agent-based model of a pandemic used to teach OOP to master students. \n",
    "\n",
    "The code is very slow, because it does not use vectors to represent data. Each agent in the model has a location and state stored in scalar variables. This is OK given the purpose of the tool (teaching OOP), but we can still do better.\n",
    "\n",
    "Run the `pydemic.py` module (no installation needed, a `python pydemic.py` should suffice to create a plot) and spend some time studying its code (it should be relatively straightforward). The code is quite slow though (a single simulation takes about 23s on my laptop). \n",
    "\n",
    "**Your task is to profile pydemic and find at least one bottleneck in the code**. For the profiling, use the python profiler (maybe with [snakeviz](https://jiffyclub.github.io/snakeviz)) or [py-spy](https://github.com/benfred/py-spy) and run the module (remove the plot function from `__main__` first!!!). **Once you have found the bottleneck, you may implement or design a strategy to address it (implementation is optional).**"
   ]
  },
  {
   "cell_type": "markdown",
   "id": "14",
   "metadata": {},
   "source": [
    "## Week 05: Numerical modelling"
   ]
  },
  {
   "cell_type": "markdown",
   "id": "15",
   "metadata": {},
   "source": [
    "*\"Due date\": 08.05.2022* "
   ]
  },
  {
   "cell_type": "markdown",
   "id": "16",
   "metadata": {},
   "source": [
    "The [glacier_model.py](https://raw.githubusercontent.com/fmaussion/advanced_programming/master/book/02_performance/glacier_model.py) script (`shift` + `right click` to download) contains numerical code to realize glacier flowline experiments. The code is similar to what [OGGM](https://docs.oggm.org/en/stable/ice-dynamics.html) is doing, but with some simplifications:\n",
    "- the glacier has a rectangular bed shape and is of constant width \n",
    "- the mass balance is a simple linear function of elevation\n",
    "\n",
    "The model solves the continuity equation as a numerical diffusion problem (see the seminal paper by [Oerlemans 1997](https://www.cambridge.org/core/journals/annals-of-glaciology/article/flowline-model-for-nigardsbreen-norway-projection-of-future-glacier-length-based-on-dynamic-calibration-with-the-historic-record/238EA486EB8CCBC77A0C292047FC03CD) if you are interested about the origins of such models: our code is the same but without the trapezoid shape and without basal sliding). There are a few things to say about the time stepping scheme (which is fixed to a constant value which is a bad idea), but numerics are not what we are trying to improve here. \n",
    "\n",
    "Let's consider the following:"
   ]
  },
  {
   "cell_type": "code",
   "execution_count": null,
   "id": "17",
   "metadata": {},
   "outputs": [],
   "source": [
    "from glacier_model import glacier_evolution\n",
    "import matplotlib.pyplot as plt\n",
    "import numpy as np\n",
    "xc, bed_h, surface_h, years, volume, length = glacier_evolution()"
   ]
  },
  {
   "cell_type": "code",
   "execution_count": null,
   "id": "18",
   "metadata": {},
   "outputs": [],
   "source": [
    "plt.plot(years, volume*1e-9); plt.title('Volume evolution'); plt.ylabel('km$^{3}$');"
   ]
  },
  {
   "cell_type": "code",
   "execution_count": null,
   "id": "19",
   "metadata": {},
   "outputs": [],
   "source": [
    "plt.plot(xc, bed_h, color='k'); plt.plot(xc, surface_h);\n",
    "plt.title('Glacier geometry at the end of the simulation'); plt.ylabel('Elevation');"
   ]
  },
  {
   "cell_type": "code",
   "execution_count": null,
   "id": "20",
   "metadata": {},
   "outputs": [],
   "source": [
    "%timeit glacier_evolution()"
   ]
  },
  {
   "cell_type": "markdown",
   "id": "21",
   "metadata": {},
   "source": [
    "Let's make this code faster in two steps (which is also what you should do in real life)"
   ]
  },
  {
   "cell_type": "markdown",
   "id": "22",
   "metadata": {},
   "source": [
    "### \"Micro-\"optimizations "
   ]
  },
  {
   "cell_type": "markdown",
   "id": "23",
   "metadata": {},
   "source": [
    "Your task: **profile** the code and evaluate the bottlenecks, and **optimize** what can be optimized. \n",
    "\n",
    "With a few very simple changes in the code (all related to the examples discussed in the [lecture notes](class_notes.ipynb)), I was able to make the code faster by a factor of two:"
   ]
  },
  {
   "cell_type": "code",
   "execution_count": null,
   "id": "24",
   "metadata": {},
   "outputs": [],
   "source": [
    "from glacier_model_optim import glacier_evolution_optim\n",
    "%timeit glacier_evolution_optim()"
   ]
  },
  {
   "cell_type": "markdown",
   "id": "25",
   "metadata": {},
   "source": [
    "### Multiprocessing "
   ]
  },
  {
   "cell_type": "markdown",
   "id": "26",
   "metadata": {},
   "source": [
    "Let's consider the following sensitivity experiments (taking way too long):"
   ]
  },
  {
   "cell_type": "code",
   "execution_count": null,
   "id": "27",
   "metadata": {},
   "outputs": [],
   "source": [
    "volumes = []\n",
    "grads = np.linspace(1, 5, 3)\n",
    "for grad in grads:\n",
    "    xc, bed_h, surface_h, years, volume, length = glacier_evolution_optim(mb_grad=grad)\n",
    "    volumes.append(volume)\n",
    "volumes = np.array(volumes)"
   ]
  },
  {
   "cell_type": "code",
   "execution_count": null,
   "id": "28",
   "metadata": {},
   "outputs": [],
   "source": [
    "plt.plot(grads, volumes[:, -1] * 1e-9, 'o-');"
   ]
  },
  {
   "cell_type": "code",
   "execution_count": null,
   "id": "29",
   "metadata": {},
   "outputs": [],
   "source": [
    "plt.plot(years, volumes.T * 1e-9);"
   ]
  },
  {
   "cell_type": "markdown",
   "id": "30",
   "metadata": {},
   "source": [
    "**What if we want to make 100 experiments instead of 3?**\n",
    "\n",
    "The problem is what we call [embarrassingly parallel](https://en.wikipedia.org/wiki/Embarrassingly_parallel): each task is fully independent of the others.\n",
    "\n",
    "**Use python's multiprocessing `Pool.map()` method to realize the same experiments on the MB gradient but with input `np.linspace(1, 5, 20)` instead.** \n",
    "\n",
    "The output plot should look more something like: \n",
    "\n",
    "![img](example_plot.png)\n",
    "\n",
    "Repeat with another sensitivity experiment of your choice!"
   ]
  }
 ],
 "metadata": {
  "kernelspec": {
   "display_name": "Python 3 (ipykernel)",
   "language": "python",
   "name": "python3"
  },
  "language_info": {
   "codemirror_mode": {
    "name": "ipython",
    "version": 3
   },
   "file_extension": ".py",
   "mimetype": "text/x-python",
   "name": "python",
   "nbconvert_exporter": "python",
   "pygments_lexer": "ipython3",
   "version": "3.10.8"
  }
 },
 "nbformat": 4,
 "nbformat_minor": 5
}
