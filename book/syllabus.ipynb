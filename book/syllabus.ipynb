{
 "cells": [
  {
   "cell_type": "markdown",
   "id": "0",
   "metadata": {},
   "source": [
    "# Syllabus"
   ]
  },
  {
   "cell_type": "markdown",
   "id": "1",
   "metadata": {},
   "source": [
    "German: *Lehrveranstaltungskonzept*. Please read it carefully at the beginning of the class, and return to it as often as necessary.\n",
    "\n",
    "```{warning}\n",
    "It is the second time I'm giving this class. The syllabus will likely change in the course of the semester, but each change will be communicated in class. \n",
    "```"
   ]
  },
  {
   "cell_type": "markdown",
   "id": "2",
   "metadata": {},
   "source": [
    "## Prerequisites\n",
    "\n",
    "The targeted audience for this lecture is **students at the master level with previous experience in programming with Python**. I'll assume that the fundamentals learned in my other [scientific programming](https://fabienmaussion.info/scientific_programming) class are well understood. You have a working python installation on your laptop and are able to install new packages and troubleshoot installation problems on your own (mostly)."
   ]
  },
  {
   "cell_type": "markdown",
   "id": "3",
   "metadata": {},
   "source": [
    "## Learning outcomes"
   ]
  },
  {
   "cell_type": "markdown",
   "id": "4",
   "metadata": {},
   "source": [
    "After successful completion of the course, you will:\n",
    "- be able to write scientific programs of advanced complexity.\n",
    "- know how to use the version control software git and the associated online platforms gitlab/github.\n",
    "- be aware of performance culprits in your code and develop strategies to address them.\n",
    "- learn how to parallelize your code (multiprocessing) and realize \"out-of-memory\" computations with the Dask library\n",
    "- know how to apply more advanced OOP design patterns (decorators, interfaces, etc.) to your code, and know when not to use them.\n",
    "- be ready to make meaningful contributions to collaborative open-source software projects.\n",
    "\n",
    "These topics will be addressed with the help of practical applications in the atmospheric and cryospheric sciences, statistics and numerical modelling."
   ]
  },
  {
   "cell_type": "markdown",
   "id": "5",
   "metadata": {},
   "source": [
    "## Organisation of the class"
   ]
  },
  {
   "cell_type": "markdown",
   "id": "6",
   "metadata": {},
   "source": [
    "I don't know yet how the class will be organized, but we will find out together!"
   ]
  },
  {
   "cell_type": "markdown",
   "id": "7",
   "metadata": {},
   "source": [
    "## Grading "
   ]
  },
  {
   "cell_type": "markdown",
   "id": "8",
   "metadata": {},
   "source": [
    "The lecture can only be passed / not passed (no grading). To pass the class, you need to:\n",
    "1. **opening of a _meaningful_ contribution to a scientific open-source project** \n",
    "2. **participate in class** \n",
    "3. **present an individual or group programming project at the end of the semester** "
   ]
  },
  {
   "cell_type": "markdown",
   "id": "9",
   "metadata": {},
   "source": [
    "### Contribution to a scientific open-source project\n",
    "\n",
    "You'll need to send me proof of your contribution by participating to the [following issue tracker](https://git.uibk.ac.at/acinn/icu/advpro_ss23/-/issues/6) on gitlab.\n",
    "\n",
    "Any contribution in a repository you do not own would be enough. Examples:\n",
    "- a documentation update on the xarray or OGGM repositories\n",
    "- a new feature in an existing repository\n",
    "- corrections or improvements on one of my class notes (e.g. Scientific Programming, or Climate).\n",
    "- etc."
   ]
  },
  {
   "cell_type": "markdown",
   "id": "10",
   "metadata": {},
   "source": [
    "### Programming project "
   ]
  },
  {
   "cell_type": "markdown",
   "id": "11",
   "metadata": {},
   "source": [
    "The programming project should be a standalone programming task realized in a group or alone (group work is preferred). The criteria are:\n",
    "- the project should have its own public repository (github or gitlab)\n",
    "- it should serve a general purpose (i.e. not solving a problem for your thesis only, but be generalizable to a broader scope or offer a new tool or app to the community)\n",
    "- therefore, it should be documented (so that others can use it and build on your work)\n",
    "\n",
    "I do not want you to work on your thesis in this class. If you are writing your thesis and want to build upon your work, a good project could be to extract parts of your work and turn it in a general purpose package. Other good examples can be seen from last year's class:\n",
    "- A bouldering wall application: https://github.com/marieschroeder/HomeSet\n",
    "- A twitter bot: https://github.com/brynjarmorka/ACINN_twitter_bot \n",
    "- A frontogenesis tool: https://git.uibk.ac.at/csav2712/frontogenesis (needs login)\n",
    "- Package for plotting WRF output and comparing it to CROSSINN measurements: https://git.uibk.ac.at/csaz3226/wrf_crossinn (needs login)"
   ]
  },
  {
   "cell_type": "code",
   "execution_count": null,
   "id": "12",
   "metadata": {},
   "outputs": [],
   "source": [
    "mdd"
   ]
  }
 ],
 "metadata": {
  "kernelspec": {
   "display_name": "Python 3 (ipykernel)",
   "language": "python",
   "name": "python3"
  },
  "language_info": {
   "codemirror_mode": {
    "name": "ipython",
    "version": 3
   },
   "file_extension": ".py",
   "mimetype": "text/x-python",
   "name": "python",
   "nbconvert_exporter": "python",
   "pygments_lexer": "ipython3",
   "version": "3.10.8"
  }
 },
 "nbformat": 4,
 "nbformat_minor": 5
}
