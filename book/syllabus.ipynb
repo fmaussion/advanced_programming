{
 "cells": [
  {
   "cell_type": "markdown",
   "id": "25239ae9-fdef-4420-ac70-4f0ac4fb3601",
   "metadata": {},
   "source": [
    "# Syllabus"
   ]
  },
  {
   "cell_type": "markdown",
   "id": "06f6120b-4768-4060-8019-4f0e1932ce11",
   "metadata": {},
   "source": [
    "German: *Lehrveranstaltungskonzept*. Please read it carefully at the beginning of the class, and return to it as often as necessary.\n",
    "\n",
    "```{warning}\n",
    "It is the first time I'm giving this class. The syllabus will likely change in the course of the semester, but each change will be communicated in class. \n",
    "```"
   ]
  },
  {
   "cell_type": "markdown",
   "id": "5a5284c4-54c5-40c3-87f0-301504a074f6",
   "metadata": {},
   "source": [
    "## Prerequisites\n",
    "\n",
    "The targeted audience for this lecture is **students at the master level with previous experience in programming with Python**. I'll assume that the fundamentals learned in my other [scientific programming](https://fabienmaussion.info/scientific_programming) class are well understood. You have a working python installation on your laptop and are able to install new packages and troubleshoot installation problems on your own (mostly)."
   ]
  },
  {
   "cell_type": "markdown",
   "id": "b0c72129-fdd3-4faa-8a9e-4e14399a3025",
   "metadata": {},
   "source": [
    "## Learning outcomes"
   ]
  },
  {
   "cell_type": "markdown",
   "id": "cde26cb0-a69e-4e19-a760-b5e171592b65",
   "metadata": {},
   "source": [
    "After successful completion of the course, you will:\n",
    "- be able to write scientific programs of advanced complexity.\n",
    "- know how to use the version control software git and the associated online platforms gitlab/github.\n",
    "- be aware of performance culprits in your code and develop strategies to address them.\n",
    "- learn how to parallelize your code (multiprocessing) and realize \"out-of-memory\" computations with the Dask library\n",
    "- know how to apply more advanced OOP design patterns (decorators, interfaces, etc.) to your code, and know when not to use them.\n",
    "- be ready to make meaningful contributions to collaborative open-source software projects.\n",
    "\n",
    "These topics will be addressed with the help of practical applications in the atmospheric and cryospheric sciences, statistics and numerical modelling."
   ]
  },
  {
   "cell_type": "markdown",
   "id": "16f819ab-ce6d-4d6b-b5bb-36eaf47c17c8",
   "metadata": {},
   "source": [
    "## Organisation of the class"
   ]
  },
  {
   "cell_type": "markdown",
   "id": "9696660f-304d-4139-aa8c-f8de4ad924ed",
   "metadata": {},
   "source": [
    "I don't know yet how the class will be organized, but we will find out together!"
   ]
  },
  {
   "cell_type": "markdown",
   "id": "61321f9f-a26c-4eb5-8d42-df64441c377f",
   "metadata": {},
   "source": [
    "## Grading "
   ]
  },
  {
   "cell_type": "markdown",
   "id": "6ab69cd9-41b8-4f93-9f10-d3f51c4b6a0e",
   "metadata": {},
   "source": [
    "The lecture will be graded based on three elements:\n",
    "1. **opening of a _meaningful_ contribution to a scientific open-source project** (mandatory but not graded)\n",
    "2. **homework presentation** (once in semester, 20%)\n",
    "3. **an individual programming project at the end of the semester** (80%)\n",
    "\n",
    "A positive evaluation of each of these elements is mandatory to pass the class!\n",
    "\n",
    "There will be **bonus points** for anyone helping to write these notes! Open an issue or a pull-request [here](https://github.com/fmaussion/advanced_programming)."
   ]
  },
  {
   "cell_type": "markdown",
   "id": "0c8583eb-e006-451c-b77d-8a70861376f2",
   "metadata": {},
   "source": [
    "## Weekly lesson plan "
   ]
  },
  {
   "cell_type": "markdown",
   "id": "c49bc9cc-d2b5-4de8-8963-19ff656f53c9",
   "metadata": {},
   "source": [
    "To be announced!"
   ]
  }
 ],
 "metadata": {
  "kernelspec": {
   "display_name": "Python 3 (ipykernel)",
   "language": "python",
   "name": "python3"
  },
  "language_info": {
   "codemirror_mode": {
    "name": "ipython",
    "version": 3
   },
   "file_extension": ".py",
   "mimetype": "text/x-python",
   "name": "python",
   "nbconvert_exporter": "python",
   "pygments_lexer": "ipython3",
   "version": "3.8.5"
  }
 },
 "nbformat": 4,
 "nbformat_minor": 5
}
