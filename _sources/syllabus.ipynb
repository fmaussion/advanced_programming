{
 "cells": [
  {
   "cell_type": "markdown",
   "id": "25239ae9-fdef-4420-ac70-4f0ac4fb3601",
   "metadata": {},
   "source": [
    "# Syllabus"
   ]
  },
  {
   "cell_type": "markdown",
   "id": "06f6120b-4768-4060-8019-4f0e1932ce11",
   "metadata": {},
   "source": [
    "German: *Lehrveranstaltungskonzept*. Please read it carefully at the beginning of the class, and return to it as often as necessary.\n",
    "\n",
    "```{warning}\n",
    "It is the second time I'm giving this class. The syllabus will likely change in the course of the semester, but each change will be communicated in class. \n",
    "```"
   ]
  },
  {
   "cell_type": "markdown",
   "id": "5a5284c4-54c5-40c3-87f0-301504a074f6",
   "metadata": {},
   "source": [
    "## Prerequisites\n",
    "\n",
    "The targeted audience for this lecture is **students at the master level with previous experience in programming with Python**. I'll assume that the fundamentals learned in my other [scientific programming](https://fabienmaussion.info/scientific_programming) class are well understood. You have a working python installation on your laptop and are able to install new packages and troubleshoot installation problems on your own (mostly)."
   ]
  },
  {
   "cell_type": "markdown",
   "id": "b0c72129-fdd3-4faa-8a9e-4e14399a3025",
   "metadata": {},
   "source": [
    "## Learning outcomes"
   ]
  },
  {
   "cell_type": "markdown",
   "id": "cde26cb0-a69e-4e19-a760-b5e171592b65",
   "metadata": {},
   "source": [
    "After successful completion of the course, you will:\n",
    "- be able to write scientific programs of advanced complexity.\n",
    "- know how to use the version control software git and the associated online platforms gitlab/github.\n",
    "- be aware of performance culprits in your code and develop strategies to address them.\n",
    "- learn how to parallelize your code (multiprocessing) and realize \"out-of-memory\" computations with the Dask library\n",
    "- know how to apply more advanced OOP design patterns (decorators, interfaces, etc.) to your code, and know when not to use them.\n",
    "- be ready to make meaningful contributions to collaborative open-source software projects.\n",
    "\n",
    "These topics will be addressed with the help of practical applications in the atmospheric and cryospheric sciences, statistics and numerical modelling."
   ]
  },
  {
   "cell_type": "markdown",
   "id": "16f819ab-ce6d-4d6b-b5bb-36eaf47c17c8",
   "metadata": {},
   "source": [
    "## Organisation of the class"
   ]
  },
  {
   "cell_type": "markdown",
   "id": "9696660f-304d-4139-aa8c-f8de4ad924ed",
   "metadata": {},
   "source": [
    "I don't know yet how the class will be organized, but we will find out together!"
   ]
  },
  {
   "cell_type": "markdown",
   "id": "61321f9f-a26c-4eb5-8d42-df64441c377f",
   "metadata": {},
   "source": [
    "## Grading "
   ]
  },
  {
   "cell_type": "markdown",
   "id": "6ab69cd9-41b8-4f93-9f10-d3f51c4b6a0e",
   "metadata": {},
   "source": [
    "The lecture can only be passed / not passed (no grading). To pass the class, you need to:\n",
    "1. **opening of a _meaningful_ contribution to a scientific open-source project** \n",
    "2. **participate in class** \n",
    "3. **present an individual or group programming project at the end of the semester** "
   ]
  },
  {
   "cell_type": "markdown",
   "id": "9ea84662-cb37-40d5-84e7-5ff4928ea131",
   "metadata": {},
   "source": [
    "### Contribution to a scientific open-source project\n",
    "\n",
    "You'll need to send me proof of your contribution by participating to the [following issue tracker](https://git.uibk.ac.at/acinn/icu/advpro_ss23/-/issues/6) on gitlab.\n",
    "\n",
    "Any contribution in a repository you do not own would be enough. Examples:\n",
    "- a documentation update on the xarray or OGGM repositories\n",
    "- a new feature in an existing repository\n",
    "- corrections or improvements on one of my class notes (e.g. Scientific Programming, or Climate).\n",
    "- etc."
   ]
  },
  {
   "cell_type": "markdown",
   "id": "99194e26-1919-4f91-b674-9eaf93841972",
   "metadata": {},
   "source": [
    "### Programming project "
   ]
  },
  {
   "cell_type": "markdown",
   "id": "bfe8c1e3-8a02-4035-adc7-a3f8d00a055b",
   "metadata": {},
   "source": [
    "The programming project should be a standalone programming task realized in a group or alone (group work is preferred). The criteria are:\n",
    "- the project should have its own public repository (github or gitlab)\n",
    "- it should serve a general purpose (i.e. not solving a problem for your thesis only, but be generalizable to a broader scope or offer a new tool or app to the community)\n",
    "- therefore, it should be documented (so that others can use it and build on your work)\n",
    "\n",
    "I do not want you to work on your thesis in this class. If you are writing your thesis and want to build upon your work, a good project could be to extract parts of your work and turn it in a general purpose package. Other good examples can be seen from last year's class:\n",
    "- A bouldering wall application: https://github.com/marieschroeder/HomeSet\n",
    "- A twitter bot: https://github.com/brynjarmorka/ACINN_twitter_bot \n",
    "- A frontogenesis tool: https://git.uibk.ac.at/csav2712/frontogenesis (needs login)\n",
    "- Package for plotting WRF output and comparing it to CROSSINN measurements: https://git.uibk.ac.at/csaz3226/wrf_crossinn (needs login)"
   ]
  },
  {
   "cell_type": "code",
   "execution_count": null,
   "id": "daf9280d-1c01-4d9b-8fee-78491bd55617",
   "metadata": {},
   "outputs": [],
   "source": [
    "mdd"
   ]
  }
 ],
 "metadata": {
  "kernelspec": {
   "display_name": "Python 3 (ipykernel)",
   "language": "python",
   "name": "python3"
  },
  "language_info": {
   "codemirror_mode": {
    "name": "ipython",
    "version": 3
   },
   "file_extension": ".py",
   "mimetype": "text/x-python",
   "name": "python",
   "nbconvert_exporter": "python",
   "pygments_lexer": "ipython3",
   "version": "3.10.8"
  }
 },
 "nbformat": 4,
 "nbformat_minor": 5
}
