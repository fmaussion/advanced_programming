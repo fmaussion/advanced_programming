{
 "cells": [
  {
   "cell_type": "markdown",
   "id": "0a44b787-7a30-4c7b-850e-cade398be361",
   "metadata": {},
   "source": [
    "# Class notes "
   ]
  },
  {
   "cell_type": "markdown",
   "id": "048e29c3-2b77-4c66-914d-fa30caab5b46",
   "metadata": {},
   "source": [
    "https://hackmd.io/@fmaussion/rJlfAkJm5"
   ]
  },
  {
   "cell_type": "code",
   "execution_count": null,
   "id": "8585b865-7e79-41d5-bb3a-456eea60f8ad",
   "metadata": {},
   "outputs": [],
   "source": []
  }
 ],
 "metadata": {
  "kernelspec": {
   "display_name": "Python 3 (ipykernel)",
   "language": "python",
   "name": "python3"
  },
  "language_info": {
   "codemirror_mode": {
    "name": "ipython",
    "version": 3
   },
   "file_extension": ".py",
   "mimetype": "text/x-python",
   "name": "python",
   "nbconvert_exporter": "python",
   "pygments_lexer": "ipython3",
   "version": "3.8.5"
  }
 },
 "nbformat": 4,
 "nbformat_minor": 5
}
